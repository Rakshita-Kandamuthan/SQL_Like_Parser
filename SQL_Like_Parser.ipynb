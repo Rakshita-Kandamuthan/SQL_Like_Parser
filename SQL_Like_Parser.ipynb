{
 "cells": [
  {
   "cell_type": "code",
   "execution_count": 1,
   "id": "1ef2f195",
   "metadata": {},
   "outputs": [],
   "source": [
    "import csv\n",
    "\n",
    "file_name = r\"C:\\Users\\User\\synthetic_data.csv\"\n",
    "\n",
    "def read_phone_records():\n",
    "    try:\n",
    "        with open(file_name, mode='r') as file:\n",
    "            reader = csv.DictReader(file)\n",
    "            return list(reader)\n",
    "    except FileNotFoundError:\n",
    "        return []\n",
    "\n",
    "def write_phone_records(records):\n",
    "    fieldnames = ['Name', 'email', 'phone_number1', 'phone_number2']  # Ensure these fieldnames match the keys in your records\n",
    "    with open(file_name, mode='w', newline='') as file:\n",
    "        writer = csv.DictWriter(file, fieldnames=fieldnames)\n",
    "        writer.writeheader()\n",
    "        writer.writerows(records)\n",
    "\n",
    "def select_all():\n",
    "    return read_phone_records()\n",
    "\n",
    "def select_by_name(name):\n",
    "    records = read_phone_records()\n",
    "    return next((record for record in records if record['Name'].lower() == name.lower()), None)\n",
    "\n",
    "def insert_record(record):\n",
    "    records = read_phone_records()\n",
    "    records.append(record)\n",
    "    write_phone_records(records)\n",
    "\n",
    "def delete_by_name(name):\n",
    "    records = read_phone_records()\n",
    "    remaining_records = [record for record in records if record.get('Name', '').lower() != name.lower()]\n",
    "    write_phone_records(remaining_records)\n",
    "    return remaining_records\n",
    "\n",
    "def parse_select(query):\n",
    "    query_parts = query.split('WHERE')\n",
    "    if len(query_parts) == 2 and query_parts[0].startswith('SELECT * FROM phone_records'):\n",
    "        condition = query_parts[1].strip()\n",
    "\n",
    "        # Extracting the field and value from the condition\n",
    "        split_condition = condition.split('=')\n",
    "        if len(split_condition) == 2:\n",
    "            field = split_condition[0].strip()\n",
    "            value = \"=\".join(split_condition[1:]).strip().strip(\"'\")\n",
    "            if field.lower() == 'name':\n",
    "                selected_record = select_by_name(value)\n",
    "                return selected_record if selected_record else \"No records found\"\n",
    "    return \"Invalid query or condition\"\n",
    "\n",
    "def parse_insert(query):\n",
    "    query_parts = query.split('VALUES')\n",
    "    if len(query_parts) == 2 and 'INSERT INTO phone_records' in query_parts[0]:\n",
    "        values_part = query_parts[1].strip().strip('();')\n",
    "        values = [value.strip().strip(\"'\") for value in values_part.split(',')]\n",
    "        if len(values) == 4:\n",
    "            new_record = {\n",
    "                'Name': values[0],\n",
    "                'email': values[1],\n",
    "                'phone_number1': values[2],\n",
    "                'phone_number2': values[3]\n",
    "            }\n",
    "            insert_record(new_record)\n",
    "            # Fetch and show all records after insertion\n",
    "            all_records = read_phone_records()\n",
    "            for record in all_records:\n",
    "                print(record)\n",
    "            return \"Insertion successful\"\n",
    "    return []\n",
    "\n",
    "def parse_delete(query):\n",
    "    query_parts = query.split('WHERE')\n",
    "    if len(query_parts) == 2 and query_parts[0].startswith('DELETE FROM phone_records'):\n",
    "        condition = query_parts[1].strip()\n",
    "        print(\"Condition for DELETE:\", condition)  # Show the DELETE condition\n",
    "        \n",
    "        # Extracting the field and value from the condition\n",
    "        split_condition = condition.split('=')\n",
    "        if len(split_condition) == 2:\n",
    "            field = split_condition[0].strip()\n",
    "            value = split_condition[1].strip().strip(\"'\")\n",
    "            if field.lower() == 'name':\n",
    "                remaining_records = delete_by_name(value)\n",
    "                for record in remaining_records:\n",
    "                    print(record)\n",
    "                return remaining_records\n",
    "    return []\n",
    "\n",
    "def execute_query(query):\n",
    "    query_type = query.split(' ')[0]\n",
    "    if query_type == 'SELECT':\n",
    "        if query.strip() == \"SELECT * FROM phone_records;\":  # Check for specific query\n",
    "            return select_all()  # Return all records\n",
    "        else:\n",
    "            return parse_select(query)  # Process other SELECT queries\n",
    "    elif query_type == 'INSERT':\n",
    "        parse_insert(query)\n",
    "        return \"Insertion successful\"\n",
    "    elif query_type == 'DELETE':\n",
    "        parse_delete(query)\n",
    "        return \"Deletion successful\"\n",
    "    else:\n",
    "        return \"Unsupported query type\"\n"
   ]
  },
  {
   "cell_type": "code",
   "execution_count": 6,
   "id": "dcc245c0",
   "metadata": {},
   "outputs": [
    {
     "name": "stdout",
     "output_type": "stream",
     "text": [
      "[{'Name': 'Robert Webb', 'email': 'smithstephen@example.net', 'phone_number1': '0121047644', 'phone_number2': '4906661210'}, {'Name': 'Sydney Rivera', 'email': 'rodriguezkevin@example.com', 'phone_number1': '(624)102-3735x0130', 'phone_number2': '001-963-224-2160x254'}, {'Name': 'Collin Little', 'email': 'glovertheresa@example.com', 'phone_number1': '613.272.2377x762', 'phone_number2': '001-627-509-3536x22421'}, {'Name': 'Daniel Curtis', 'email': 'sfitzpatrick@example.org', 'phone_number1': '001-175-677-4149x47910', 'phone_number2': '4320495660'}, {'Name': 'Nancy Bartlett', 'email': 'fherrera@example.net', 'phone_number1': '2787624431', 'phone_number2': '+1-314-006-6617x5602'}, {'Name': 'Jeffrey Bates', 'email': 'joneschristine@example.net', 'phone_number1': '(311)385-3178x790', 'phone_number2': '670-532-9667'}, {'Name': 'Heather Jordan', 'email': 'vazquezchristopher@example.org', 'phone_number1': '6297202797', 'phone_number2': '(099)183-2099'}, {'Name': 'Emily Clark', 'email': 'sandraross@example.net', 'phone_number1': '+1-148-478-6015x89497', 'phone_number2': '371.187.8464x3801'}, {'Name': 'Audrey Wagner', 'email': 'mullinsjeanette@example.org', 'phone_number1': '1367775548', 'phone_number2': '001-768-733-6567x29363'}, {'Name': 'Kevin Page', 'email': 'wyatt92@example.net', 'phone_number1': '001-557-233-8134x31612', 'phone_number2': '(828)874-9903x760'}, {'Name': 'Erika Green', 'email': 'leealyssa@example.net', 'phone_number1': '001-846-031-4476x915', 'phone_number2': '(019)873-8284x61995'}, {'Name': 'Darlene Matthews', 'email': 'kevin30@example.com', 'phone_number1': '(473)396-1919x14906', 'phone_number2': '241.643.3875x06716'}, {'Name': 'Jeffrey Adams', 'email': 'odavis@example.org', 'phone_number1': '996.305.3280x895', 'phone_number2': '(509)376-2910'}, {'Name': 'Annette Choi', 'email': 'matthewbullock@example.net', 'phone_number1': '(967)759-5817', 'phone_number2': '219-581-8812'}, {'Name': 'Alicia Kelley', 'email': 'wrighthannah@example.net', 'phone_number1': '164.394.0515x00934', 'phone_number2': '803-656-9884x5573'}]\n"
     ]
    }
   ],
   "source": [
    "# Query to retrieve all records from the 'phone_records' table\n",
    "query = \"SELECT * FROM phone_records;\"\n",
    "result = execute_query(query)\n",
    "print(result)"
   ]
  },
  {
   "cell_type": "code",
   "execution_count": 7,
   "id": "c03b8609",
   "metadata": {},
   "outputs": [
    {
     "name": "stdout",
     "output_type": "stream",
     "text": [
      "{'Name': 'Collin Little', 'email': 'glovertheresa@example.com', 'phone_number1': '613.272.2377x762', 'phone_number2': '001-627-509-3536x22421'}\n"
     ]
    }
   ],
   "source": [
    "# Query to fetch all columns for a specific record where the name is 'Matthew Peters'\n",
    "query = \"SELECT * FROM phone_records WHERE name='Collin Little'\"\n",
    "result = execute_query(query)\n",
    "print(result)"
   ]
  },
  {
   "cell_type": "code",
   "execution_count": 8,
   "id": "a42874be",
   "metadata": {},
   "outputs": [
    {
     "name": "stdout",
     "output_type": "stream",
     "text": [
      "{'Name': 'Robert Webb', 'email': 'smithstephen@example.net', 'phone_number1': '0121047644', 'phone_number2': '4906661210'}\n",
      "{'Name': 'Sydney Rivera', 'email': 'rodriguezkevin@example.com', 'phone_number1': '(624)102-3735x0130', 'phone_number2': '001-963-224-2160x254'}\n",
      "{'Name': 'Collin Little', 'email': 'glovertheresa@example.com', 'phone_number1': '613.272.2377x762', 'phone_number2': '001-627-509-3536x22421'}\n",
      "{'Name': 'Daniel Curtis', 'email': 'sfitzpatrick@example.org', 'phone_number1': '001-175-677-4149x47910', 'phone_number2': '4320495660'}\n",
      "{'Name': 'Nancy Bartlett', 'email': 'fherrera@example.net', 'phone_number1': '2787624431', 'phone_number2': '+1-314-006-6617x5602'}\n",
      "{'Name': 'Jeffrey Bates', 'email': 'joneschristine@example.net', 'phone_number1': '(311)385-3178x790', 'phone_number2': '670-532-9667'}\n",
      "{'Name': 'Heather Jordan', 'email': 'vazquezchristopher@example.org', 'phone_number1': '6297202797', 'phone_number2': '(099)183-2099'}\n",
      "{'Name': 'Emily Clark', 'email': 'sandraross@example.net', 'phone_number1': '+1-148-478-6015x89497', 'phone_number2': '371.187.8464x3801'}\n",
      "{'Name': 'Audrey Wagner', 'email': 'mullinsjeanette@example.org', 'phone_number1': '1367775548', 'phone_number2': '001-768-733-6567x29363'}\n",
      "{'Name': 'Kevin Page', 'email': 'wyatt92@example.net', 'phone_number1': '001-557-233-8134x31612', 'phone_number2': '(828)874-9903x760'}\n",
      "{'Name': 'Erika Green', 'email': 'leealyssa@example.net', 'phone_number1': '001-846-031-4476x915', 'phone_number2': '(019)873-8284x61995'}\n",
      "{'Name': 'Darlene Matthews', 'email': 'kevin30@example.com', 'phone_number1': '(473)396-1919x14906', 'phone_number2': '241.643.3875x06716'}\n",
      "{'Name': 'Jeffrey Adams', 'email': 'odavis@example.org', 'phone_number1': '996.305.3280x895', 'phone_number2': '(509)376-2910'}\n",
      "{'Name': 'Annette Choi', 'email': 'matthewbullock@example.net', 'phone_number1': '(967)759-5817', 'phone_number2': '219-581-8812'}\n",
      "{'Name': 'Alicia Kelley', 'email': 'wrighthannah@example.net', 'phone_number1': '164.394.0515x00934', 'phone_number2': '803-656-9884x5573'}\n",
      "{'Name': 'Tessa Hardin', 'email': 'tea@test.xiiz', 'phone_number1': '55555555', 'phone_number2': '6666666'}\n",
      "Insertion successful\n"
     ]
    }
   ],
   "source": [
    "# An INSERT query to add a new record into the 'phone_records' table\n",
    "query = \"INSERT INTO phone_records(Name, email, 'phone_number1', 'phone_number2') VALUES('Tessa Hardin', 'tea@test.xiiz', '55555555', '6666666')\"\n",
    "result = execute_query(query)\n",
    "print(result) "
   ]
  },
  {
   "cell_type": "code",
   "execution_count": 9,
   "id": "7933d8b1",
   "metadata": {},
   "outputs": [
    {
     "name": "stdout",
     "output_type": "stream",
     "text": [
      "Condition for DELETE: name='Tessa Hardin'\n",
      "{'Name': 'Robert Webb', 'email': 'smithstephen@example.net', 'phone_number1': '0121047644', 'phone_number2': '4906661210'}\n",
      "{'Name': 'Sydney Rivera', 'email': 'rodriguezkevin@example.com', 'phone_number1': '(624)102-3735x0130', 'phone_number2': '001-963-224-2160x254'}\n",
      "{'Name': 'Collin Little', 'email': 'glovertheresa@example.com', 'phone_number1': '613.272.2377x762', 'phone_number2': '001-627-509-3536x22421'}\n",
      "{'Name': 'Daniel Curtis', 'email': 'sfitzpatrick@example.org', 'phone_number1': '001-175-677-4149x47910', 'phone_number2': '4320495660'}\n",
      "{'Name': 'Nancy Bartlett', 'email': 'fherrera@example.net', 'phone_number1': '2787624431', 'phone_number2': '+1-314-006-6617x5602'}\n",
      "{'Name': 'Jeffrey Bates', 'email': 'joneschristine@example.net', 'phone_number1': '(311)385-3178x790', 'phone_number2': '670-532-9667'}\n",
      "{'Name': 'Heather Jordan', 'email': 'vazquezchristopher@example.org', 'phone_number1': '6297202797', 'phone_number2': '(099)183-2099'}\n",
      "{'Name': 'Emily Clark', 'email': 'sandraross@example.net', 'phone_number1': '+1-148-478-6015x89497', 'phone_number2': '371.187.8464x3801'}\n",
      "{'Name': 'Audrey Wagner', 'email': 'mullinsjeanette@example.org', 'phone_number1': '1367775548', 'phone_number2': '001-768-733-6567x29363'}\n",
      "{'Name': 'Kevin Page', 'email': 'wyatt92@example.net', 'phone_number1': '001-557-233-8134x31612', 'phone_number2': '(828)874-9903x760'}\n",
      "{'Name': 'Erika Green', 'email': 'leealyssa@example.net', 'phone_number1': '001-846-031-4476x915', 'phone_number2': '(019)873-8284x61995'}\n",
      "{'Name': 'Darlene Matthews', 'email': 'kevin30@example.com', 'phone_number1': '(473)396-1919x14906', 'phone_number2': '241.643.3875x06716'}\n",
      "{'Name': 'Jeffrey Adams', 'email': 'odavis@example.org', 'phone_number1': '996.305.3280x895', 'phone_number2': '(509)376-2910'}\n",
      "{'Name': 'Annette Choi', 'email': 'matthewbullock@example.net', 'phone_number1': '(967)759-5817', 'phone_number2': '219-581-8812'}\n",
      "{'Name': 'Alicia Kelley', 'email': 'wrighthannah@example.net', 'phone_number1': '164.394.0515x00934', 'phone_number2': '803-656-9884x5573'}\n",
      "Result of DELETE query: Deletion successful\n"
     ]
    }
   ],
   "source": [
    "# Query to Delete a specific record from the 'phone_records' table\n",
    "query = \"DELETE FROM phone_records WHERE name='Tessa Hardin'\"\n",
    "result = execute_query(query)\n",
    "print(\"Result of DELETE query:\", result)  "
   ]
  }
 ],
 "metadata": {
  "kernelspec": {
   "display_name": "Python 3 (ipykernel)",
   "language": "python",
   "name": "python3"
  },
  "language_info": {
   "codemirror_mode": {
    "name": "ipython",
    "version": 3
   },
   "file_extension": ".py",
   "mimetype": "text/x-python",
   "name": "python",
   "nbconvert_exporter": "python",
   "pygments_lexer": "ipython3",
   "version": "3.11.3"
  }
 },
 "nbformat": 4,
 "nbformat_minor": 5
}
