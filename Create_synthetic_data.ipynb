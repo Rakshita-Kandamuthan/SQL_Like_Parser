{
 "cells": [
  {
   "cell_type": "code",
   "execution_count": 1,
   "id": "00cf7515",
   "metadata": {},
   "outputs": [
    {
     "name": "stdout",
     "output_type": "stream",
     "text": [
      "Synthetic data saved as 'synthetic_data.csv'\n"
     ]
    }
   ],
   "source": [
    "from faker import Faker\n",
    "import csv\n",
    "\n",
    "fake = Faker()\n",
    "\n",
    "# Generate synthetic person data\n",
    "with open('synthetic_data.csv', 'w', newline='') as csv_file:\n",
    "    fieldnames = ['Name', 'email', 'phone_number1', 'phone_number2']\n",
    "    writer = csv.DictWriter(csv_file, fieldnames=fieldnames)\n",
    "\n",
    "    writer.writeheader()\n",
    "    for _ in range(15):\n",
    "        writer.writerow({\n",
    "            'Name': fake.name(),\n",
    "            'email': fake.email(),\n",
    "            'phone_number1': fake.phone_number(),\n",
    "            'phone_number2': fake.phone_number()  # Second phone number\n",
    "        })\n",
    "\n",
    "print(\"Synthetic data saved as 'synthetic_data.csv'\")"
   ]
  }
 ],
 "metadata": {
  "kernelspec": {
   "display_name": "Python 3 (ipykernel)",
   "language": "python",
   "name": "python3"
  },
  "language_info": {
   "codemirror_mode": {
    "name": "ipython",
    "version": 3
   },
   "file_extension": ".py",
   "mimetype": "text/x-python",
   "name": "python",
   "nbconvert_exporter": "python",
   "pygments_lexer": "ipython3",
   "version": "3.11.3"
  }
 },
 "nbformat": 4,
 "nbformat_minor": 5
}
